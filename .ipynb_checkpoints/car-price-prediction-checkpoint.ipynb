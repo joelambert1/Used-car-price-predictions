{
 "cells": [
  {
   "cell_type": "markdown",
   "id": "83562b37",
   "metadata": {},
   "source": [
    "# Used Car Price Prediction Project\n",
    "\n",
    "This application will try to predict the prices of used cars, based on a dataset\n",
    "   \n",
    "The data is downloaded from kaggle https://www.kaggle.com/ishaanthareja007/car-details\n",
    "The data will be split into 3 sets: training.csv, validation.csv, and testing.csv sets\n",
    "    \n",
    "We will use RMSLE (root mean squared log error), MAPE (mean absolute percentage error), and R Squared error to determine the accuracy and difference between actual and predicted prices"
   ]
  },
  {
   "cell_type": "markdown",
   "id": "69dd54ef",
   "metadata": {},
   "source": [
    "# Import data"
   ]
  },
  {
   "cell_type": "code",
   "execution_count": 140,
   "id": "5465d712",
   "metadata": {},
   "outputs": [],
   "source": [
    "import numpy as np\n",
    "import pandas as pd\n",
    "import matplotlib.pyplot as plt\n",
    "import sklearn"
   ]
  },
  {
   "cell_type": "code",
   "execution_count": 141,
   "id": "ee9b698b",
   "metadata": {},
   "outputs": [],
   "source": [
    "# import training and validation data into a dataframe\n",
    "df = pd.read_csv(\"data/car-data.csv\")"
   ]
  },
  {
   "cell_type": "markdown",
   "id": "88ac4272",
   "metadata": {},
   "source": [
    "# Explore data"
   ]
  },
  {
   "cell_type": "markdown",
   "id": "b8c32dca",
   "metadata": {},
   "source": [
    "This shows the structure of the CSV file that we are using.\n",
    "\n",
    "The price is in Rupees as the used car company is headquartered in India\n",
    "and the mileage is in Kilometers.\n",
    "\n",
    "The unit types do not interfere with the machine learning algorithm as long as they are consistent"
   ]
  },
  {
   "cell_type": "code",
   "execution_count": 142,
   "id": "9128e7a3",
   "metadata": {},
   "outputs": [
    {
     "data": {
      "text/html": [
       "<div>\n",
       "<style scoped>\n",
       "    .dataframe tbody tr th:only-of-type {\n",
       "        vertical-align: middle;\n",
       "    }\n",
       "\n",
       "    .dataframe tbody tr th {\n",
       "        vertical-align: top;\n",
       "    }\n",
       "\n",
       "    .dataframe thead th {\n",
       "        text-align: right;\n",
       "    }\n",
       "</style>\n",
       "<table border=\"1\" class=\"dataframe\">\n",
       "  <thead>\n",
       "    <tr style=\"text-align: right;\">\n",
       "      <th></th>\n",
       "      <th>name</th>\n",
       "      <th>year</th>\n",
       "      <th>price</th>\n",
       "      <th>mileage</th>\n",
       "      <th>fuel</th>\n",
       "      <th>seller_type</th>\n",
       "      <th>transmission</th>\n",
       "      <th>owner</th>\n",
       "      <th>kmpl</th>\n",
       "      <th>engine</th>\n",
       "      <th>max_power</th>\n",
       "      <th>torque</th>\n",
       "      <th>seats</th>\n",
       "    </tr>\n",
       "  </thead>\n",
       "  <tbody>\n",
       "    <tr>\n",
       "      <th>0</th>\n",
       "      <td>Skoda Rapid 1.5 TDI Ambition</td>\n",
       "      <td>2014</td>\n",
       "      <td>370000</td>\n",
       "      <td>120000</td>\n",
       "      <td>Diesel</td>\n",
       "      <td>Individual</td>\n",
       "      <td>Manual</td>\n",
       "      <td>Second Owner</td>\n",
       "      <td>21.14 kmpl</td>\n",
       "      <td>1498 CC</td>\n",
       "      <td>103.52 bhp</td>\n",
       "      <td>250Nm@ 1500-2500rpm</td>\n",
       "      <td>5.0</td>\n",
       "    </tr>\n",
       "    <tr>\n",
       "      <th>1</th>\n",
       "      <td>Honda City 2017-2020 EXi</td>\n",
       "      <td>2006</td>\n",
       "      <td>158000</td>\n",
       "      <td>140000</td>\n",
       "      <td>Petrol</td>\n",
       "      <td>Individual</td>\n",
       "      <td>Manual</td>\n",
       "      <td>Third Owner</td>\n",
       "      <td>17.7 kmpl</td>\n",
       "      <td>1497 CC</td>\n",
       "      <td>78 bhp</td>\n",
       "      <td>12.7@ 2,700(kgm@ rpm)</td>\n",
       "      <td>5.0</td>\n",
       "    </tr>\n",
       "    <tr>\n",
       "      <th>2</th>\n",
       "      <td>Hyundai i20 Sportz Diesel</td>\n",
       "      <td>2010</td>\n",
       "      <td>225000</td>\n",
       "      <td>127000</td>\n",
       "      <td>Diesel</td>\n",
       "      <td>Individual</td>\n",
       "      <td>Manual</td>\n",
       "      <td>First Owner</td>\n",
       "      <td>23.0 kmpl</td>\n",
       "      <td>1396 CC</td>\n",
       "      <td>90 bhp</td>\n",
       "      <td>22.4 kgm at 1750-2750rpm</td>\n",
       "      <td>5.0</td>\n",
       "    </tr>\n",
       "    <tr>\n",
       "      <th>3</th>\n",
       "      <td>Maruti Swift VXI BSIII</td>\n",
       "      <td>2007</td>\n",
       "      <td>130000</td>\n",
       "      <td>120000</td>\n",
       "      <td>Petrol</td>\n",
       "      <td>Individual</td>\n",
       "      <td>Manual</td>\n",
       "      <td>First Owner</td>\n",
       "      <td>16.1 kmpl</td>\n",
       "      <td>1298 CC</td>\n",
       "      <td>88.2 bhp</td>\n",
       "      <td>11.5@ 4,500(kgm@ rpm)</td>\n",
       "      <td>5.0</td>\n",
       "    </tr>\n",
       "    <tr>\n",
       "      <th>4</th>\n",
       "      <td>Hyundai Xcent 1.2 VTVT E Plus</td>\n",
       "      <td>2017</td>\n",
       "      <td>440000</td>\n",
       "      <td>45000</td>\n",
       "      <td>Petrol</td>\n",
       "      <td>Individual</td>\n",
       "      <td>Manual</td>\n",
       "      <td>First Owner</td>\n",
       "      <td>20.14 kmpl</td>\n",
       "      <td>1197 CC</td>\n",
       "      <td>81.86 bhp</td>\n",
       "      <td>113.75nm@ 4000rpm</td>\n",
       "      <td>5.0</td>\n",
       "    </tr>\n",
       "  </tbody>\n",
       "</table>\n",
       "</div>"
      ],
      "text/plain": [
       "                            name  year   price  mileage    fuel seller_type  \\\n",
       "0   Skoda Rapid 1.5 TDI Ambition  2014  370000   120000  Diesel  Individual   \n",
       "1       Honda City 2017-2020 EXi  2006  158000   140000  Petrol  Individual   \n",
       "2      Hyundai i20 Sportz Diesel  2010  225000   127000  Diesel  Individual   \n",
       "3         Maruti Swift VXI BSIII  2007  130000   120000  Petrol  Individual   \n",
       "4  Hyundai Xcent 1.2 VTVT E Plus  2017  440000    45000  Petrol  Individual   \n",
       "\n",
       "  transmission         owner        kmpl   engine   max_power  \\\n",
       "0       Manual  Second Owner  21.14 kmpl  1498 CC  103.52 bhp   \n",
       "1       Manual   Third Owner   17.7 kmpl  1497 CC      78 bhp   \n",
       "2       Manual   First Owner   23.0 kmpl  1396 CC      90 bhp   \n",
       "3       Manual   First Owner   16.1 kmpl  1298 CC    88.2 bhp   \n",
       "4       Manual   First Owner  20.14 kmpl  1197 CC   81.86 bhp   \n",
       "\n",
       "                     torque  seats  \n",
       "0       250Nm@ 1500-2500rpm    5.0  \n",
       "1     12.7@ 2,700(kgm@ rpm)    5.0  \n",
       "2  22.4 kgm at 1750-2750rpm    5.0  \n",
       "3     11.5@ 4,500(kgm@ rpm)    5.0  \n",
       "4         113.75nm@ 4000rpm    5.0  "
      ]
     },
     "execution_count": 142,
     "metadata": {},
     "output_type": "execute_result"
    }
   ],
   "source": [
    "# Display the DataFrame\n",
    "df.head()"
   ]
  },
  {
   "cell_type": "markdown",
   "id": "246e1be3",
   "metadata": {},
   "source": [
    "Next, we examine more info about the size of the dataframe and its content\n",
    "\n",
    "Here we can see the total entries, column types and the number of missing values"
   ]
  },
  {
   "cell_type": "code",
   "execution_count": 143,
   "id": "cd691637",
   "metadata": {},
   "outputs": [
    {
     "name": "stdout",
     "output_type": "stream",
     "text": [
      "<class 'pandas.core.frame.DataFrame'>\n",
      "RangeIndex: 8127 entries, 0 to 8126\n",
      "Data columns (total 13 columns):\n",
      " #   Column        Non-Null Count  Dtype  \n",
      "---  ------        --------------  -----  \n",
      " 0   name          8127 non-null   object \n",
      " 1   year          8127 non-null   int64  \n",
      " 2   price         8127 non-null   int64  \n",
      " 3   mileage       8127 non-null   int64  \n",
      " 4   fuel          8127 non-null   object \n",
      " 5   seller_type   8127 non-null   object \n",
      " 6   transmission  8127 non-null   object \n",
      " 7   owner         8127 non-null   object \n",
      " 8   kmpl          7906 non-null   object \n",
      " 9   engine        7906 non-null   object \n",
      " 10  max_power     7912 non-null   object \n",
      " 11  torque        7905 non-null   object \n",
      " 12  seats         7906 non-null   float64\n",
      "dtypes: float64(1), int64(3), object(9)\n",
      "memory usage: 825.5+ KB\n"
     ]
    }
   ],
   "source": [
    "df.info()"
   ]
  },
  {
   "cell_type": "markdown",
   "id": "b92d2014",
   "metadata": {},
   "source": [
    "### Visualize relationships among data"
   ]
  },
  {
   "cell_type": "markdown",
   "id": "6364032e",
   "metadata": {},
   "source": [
    "It is not necessary to assess the correlation between price and all columns right now as we can use our machine learning algorithm to assess the strengths of these relationships later. However, we will explore some relationships here."
   ]
  },
  {
   "cell_type": "markdown",
   "id": "e55517b5",
   "metadata": {},
   "source": [
    "We create a scatter plot comparing mileage and price.This graph shows a strong correlation. \n",
    "(lower mileage cars sell for higher prices)"
   ]
  },
  {
   "cell_type": "code",
   "execution_count": 148,
   "id": "d013c293",
   "metadata": {},
   "outputs": [
    {
     "data": {
      "text/plain": [
       "<matplotlib.collections.PathCollection at 0x1cead534e80>"
      ]
     },
     "execution_count": 148,
     "metadata": {},
     "output_type": "execute_result"
    },
    {
     "data": {
      "image/png": "[encoded data removed]",
      "text/plain": [
       "<Figure size 432x288 with 1 Axes>"
      ]
     },
     "metadata": {
      "needs_background": "light"
     },
     "output_type": "display_data"
    }
   ],
   "source": [
    "fig, ax = plt.subplots()\n",
    "ax.invert_xaxis()\n",
    "ax.scatter(df[\"mileage\"][:1000], df[\"price\"][:1000])"
   ]
  },
  {
   "cell_type": "markdown",
   "id": "94479d13",
   "metadata": {},
   "source": [
    "We create a bar graph comparing year vs price. This graph also shows a strong relationship. (newer models sell for higher prices)"
   ]
  },
  {
   "cell_type": "code",
   "execution_count": 145,
   "id": "d669e22a",
   "metadata": {},
   "outputs": [
    {
     "data": {
      "text/plain": [
       "<BarContainer object of 1000 artists>"
      ]
     },
     "execution_count": 145,
     "metadata": {},
     "output_type": "execute_result"
    },
    {
     "data": {
      "image/png": "[encoded data removed]",
      "text/plain": [
       "<Figure size 432x288 with 1 Axes>"
      ]
     },
     "metadata": {
      "needs_background": "light"
     },
     "output_type": "display_data"
    }
   ],
   "source": [
    "fig, ax = plt.subplots()\n",
    "ax.bar(df[\"year\"][:1000], df[\"price\"][:1000])"
   ]
  },
  {
   "cell_type": "markdown",
   "id": "8c3095ca",
   "metadata": {},
   "source": [
    "# Clean and Transform Data"
   ]
  },
  {
   "cell_type": "markdown",
   "id": "3b88b2dd",
   "metadata": {},
   "source": [
    "### Create a data formatting function\n",
    "This function will convert any objects or strings to categorical types for the machine learning algorithm\n",
    "\n",
    "This function will fill null values, and create an additional column to indicate the \"missing\" data"
   ]
  },
  {
   "cell_type": "code",
   "execution_count": 103,
   "id": "dc567b12",
   "metadata": {},
   "outputs": [],
   "source": [
    "def format_data(df):\n",
    "    \n",
    "    # Fill missing numeric columns with median\n",
    "    # Add additional column to indicate missing data was replaced\n",
    "    for label, content in df.items():\n",
    "        if pd.api.types.is_numeric_dtype(content):\n",
    "            if pd.isnull(content).sum():\n",
    "                # fill missing data and add a column to indicate data was missing\n",
    "                df[label + \"_missing\"] = pd.isnull(content)\n",
    "                df[label] = content.fillna(content.median())\n",
    "\n",
    "    # convert objects/strings to categorical data types for our ML algorithm\n",
    "    for label, content in df.items():\n",
    "        if pd.api.types.is_string_dtype(content):\n",
    "            df[label] = content.astype(\"category\").cat.as_ordered()\n",
    "            \n",
    "    # fill missing categorical values\n",
    "    for label, content in df.items():\n",
    "        if not pd.api.types.is_numeric_dtype(content):\n",
    "            df[label + \"_missing\"] = pd.isnull(content)\n",
    "            df[label] = pd.Categorical(content).codes + 1 # missing values are -1 so we add 1 to make them 0\n",
    "    return df"
   ]
  },
  {
   "cell_type": "code",
   "execution_count": 104,
   "id": "cbba3199",
   "metadata": {},
   "outputs": [
    {
     "name": "stdout",
     "output_type": "stream",
     "text": [
      "<class 'pandas.core.frame.DataFrame'>\n",
      "RangeIndex: 8127 entries, 0 to 8126\n",
      "Data columns (total 23 columns):\n",
      " #   Column                Non-Null Count  Dtype  \n",
      "---  ------                --------------  -----  \n",
      " 0   name                  8127 non-null   int16  \n",
      " 1   year                  8127 non-null   int64  \n",
      " 2   price                 8127 non-null   int64  \n",
      " 3   mileage               8127 non-null   int64  \n",
      " 4   fuel                  8127 non-null   int8   \n",
      " 5   seller_type           8127 non-null   int8   \n",
      " 6   transmission          8127 non-null   int8   \n",
      " 7   owner                 8127 non-null   int8   \n",
      " 8   kmpl                  8127 non-null   int16  \n",
      " 9   engine                8127 non-null   int8   \n",
      " 10  max_power             8127 non-null   int16  \n",
      " 11  torque                8127 non-null   int16  \n",
      " 12  seats                 8127 non-null   float64\n",
      " 13  seats_missing         8127 non-null   bool   \n",
      " 14  name_missing          8127 non-null   bool   \n",
      " 15  fuel_missing          8127 non-null   bool   \n",
      " 16  seller_type_missing   8127 non-null   bool   \n",
      " 17  transmission_missing  8127 non-null   bool   \n",
      " 18  owner_missing         8127 non-null   bool   \n",
      " 19  kmpl_missing          8127 non-null   bool   \n",
      " 20  engine_missing        8127 non-null   bool   \n",
      " 21  max_power_missing     8127 non-null   bool   \n",
      " 22  torque_missing        8127 non-null   bool   \n",
      "dtypes: bool(10), float64(1), int16(4), int64(3), int8(5)\n",
      "memory usage: 436.6 KB\n"
     ]
    }
   ],
   "source": [
    "# Format the DataFrame \n",
    "df = format_data(df)\n",
    "\n",
    "# View the new details of the dataframe and make sure the formatting was successful\n",
    "df.info()"
   ]
  },
  {
   "cell_type": "markdown",
   "id": "7aa3f961",
   "metadata": {},
   "source": [
    "We can see below, \"torque\" and \"engine\" may have a weak correlation with price"
   ]
  },
  {
   "cell_type": "code",
   "execution_count": 105,
   "id": "28a82018",
   "metadata": {},
   "outputs": [
    {
     "data": {
      "text/plain": [
       "<matplotlib.collections.PathCollection at 0x1cea320c160>"
      ]
     },
     "execution_count": 105,
     "metadata": {},
     "output_type": "execute_result"
    },
    {
     "data": {
      "image/png": "[encoded data removed]",
      "text/plain": [
       "<Figure size 432x288 with 1 Axes>"
      ]
     },
     "metadata": {
      "needs_background": "light"
     },
     "output_type": "display_data"
    }
   ],
   "source": [
    "fig, ax = plt.subplots()\n",
    "ax.scatter(df[\"torque\"][:1000], df[\"price\"][:1000])"
   ]
  },
  {
   "cell_type": "code",
   "execution_count": 137,
   "id": "3e891513",
   "metadata": {},
   "outputs": [
    {
     "data": {
      "text/plain": [
       "<matplotlib.collections.PathCollection at 0x1ceb1ea1670>"
      ]
     },
     "execution_count": 137,
     "metadata": {},
     "output_type": "execute_result"
    },
    {
     "data": {
      "image/png": "[encoded data removed]",
      "text/plain": [
       "<Figure size 432x288 with 1 Axes>"
      ]
     },
     "metadata": {
      "needs_background": "light"
     },
     "output_type": "display_data"
    }
   ],
   "source": [
    "fig, ax = plt.subplots()\n",
    "ax.scatter(df[\"engine\"][:1000], df[\"price\"][:1000])"
   ]
  },
  {
   "cell_type": "markdown",
   "id": "3db9a6ad",
   "metadata": {},
   "source": [
    "# Split the Data"
   ]
  },
  {
   "cell_type": "markdown",
   "id": "24796dfd",
   "metadata": {},
   "source": [
    "Split the data into training, test, and validation sets for the ML algorithm"
   ]
  },
  {
   "cell_type": "code",
   "execution_count": 107,
   "id": "fc921b54",
   "metadata": {},
   "outputs": [],
   "source": [
    "dftest = df[df.index >= 7900]\n",
    "dfval = df[np.logical_and(df.index >= 7600, df.index < 7900)]\n",
    "dftrain = df[df.index < 7600]"
   ]
  },
  {
   "cell_type": "markdown",
   "id": "b43bd88e",
   "metadata": {},
   "source": [
    "### Verify that the sets were split appropriately"
   ]
  },
  {
   "cell_type": "markdown",
   "id": "31b9f874",
   "metadata": {},
   "source": [
    "As we can see, the sets were split from the original with 8127 entries into 3 separate sets"
   ]
  },
  {
   "cell_type": "code",
   "execution_count": 108,
   "id": "b1bdbde5",
   "metadata": {},
   "outputs": [
    {
     "data": {
      "text/plain": [
       "(300, 7600, 227)"
      ]
     },
     "execution_count": 108,
     "metadata": {},
     "output_type": "execute_result"
    }
   ],
   "source": [
    "len(dfval), len(dftrain), len(dftest)"
   ]
  },
  {
   "cell_type": "markdown",
   "id": "e8afbb80",
   "metadata": {},
   "source": [
    "# Evaluate the Machine Learning model"
   ]
  },
  {
   "cell_type": "markdown",
   "id": "d80acb93",
   "metadata": {},
   "source": [
    "### Create a function to evaluate the accuracy of the machine learning model and display results"
   ]
  },
  {
   "cell_type": "code",
   "execution_count": 109,
   "id": "9b5febda",
   "metadata": {},
   "outputs": [],
   "source": [
    "# We will use the MSLE, MAPE, and R^2 score for evaluation metrics\n",
    "from sklearn.metrics import mean_squared_log_error, mean_absolute_percentage_error, r2_score\n",
    "\n",
    "# function to find RMSLE since it is not available in sklearn\n",
    "def rmsle(y_actual, y_pred):\n",
    "    return np.sqrt(mean_squared_log_error(y_actual, y_pred))\n",
    "\n",
    "# make a function that evaluates the model with different criteria\n",
    "def score_model(model):\n",
    "    train_pred = model.predict(xtrain) # see how model performs on training set\n",
    "    val_pred = model.predict(xvalid) # see how model performs on validation set\n",
    "    \n",
    "    # scores will return a dictionary with the results\n",
    "    scores = {\"Training MAPE\": mean_absolute_percentage_error(ytrain, train_pred),\n",
    "              \"Validation MAPE\": mean_absolute_percentage_error(yvalid, val_pred),\n",
    "              \"Training RMSLE\": rmsle(ytrain, train_pred),\n",
    "              \"validation RMSLE\": rmsle(yvalid, val_pred),\n",
    "              \"Training R^2\": r2_score(ytrain, train_pred),\n",
    "              \"Validation R^2\": r2_score(yvalid, val_pred)}\n",
    "    return scores"
   ]
  },
  {
   "cell_type": "markdown",
   "id": "7aeadf1f",
   "metadata": {},
   "source": [
    "# Build the Machine Learning Model"
   ]
  },
  {
   "cell_type": "markdown",
   "id": "70fdfb85",
   "metadata": {},
   "source": [
    "### Create the training and validation sets"
   ]
  },
  {
   "cell_type": "markdown",
   "id": "3c2a766b",
   "metadata": {},
   "source": [
    "Here we will separate the \"price\" column from the training and validation sets in order to train and evaluate the model"
   ]
  },
  {
   "cell_type": "code",
   "execution_count": 110,
   "id": "03da0aee",
   "metadata": {},
   "outputs": [],
   "source": [
    "# xtrain is the training data without the price column and ytrain is the associated price column (similar for xvalid/yvalid)\n",
    "xtrain, ytrain = dftrain.drop(\"price\", axis=1), dftrain.price\n",
    "xvalid, yvalid = dfval.drop(\"price\", axis=1), dfval.price"
   ]
  },
  {
   "cell_type": "markdown",
   "id": "1679d05d",
   "metadata": {},
   "source": [
    "Next, we will verify the data by printing the number of rows and columns"
   ]
  },
  {
   "cell_type": "code",
   "execution_count": 111,
   "id": "200010ee",
   "metadata": {},
   "outputs": [
    {
     "data": {
      "text/plain": [
       "((7600, 22), (7600,), (300, 22), (300,))"
      ]
     },
     "execution_count": 111,
     "metadata": {},
     "output_type": "execute_result"
    }
   ],
   "source": [
    "xtrain.shape, ytrain.shape, xvalid.shape, yvalid.shape"
   ]
  },
  {
   "cell_type": "markdown",
   "id": "4b95d142",
   "metadata": {},
   "source": [
    "### Instantiate and fit the model"
   ]
  },
  {
   "cell_type": "code",
   "execution_count": 112,
   "id": "8915043e",
   "metadata": {},
   "outputs": [
    {
     "name": "stdout",
     "output_type": "stream",
     "text": [
      "Wall time: 958 ms\n"
     ]
    },
    {
     "data": {
      "text/plain": [
       "RandomForestRegressor(n_jobs=-1, random_state=42)"
      ]
     },
     "execution_count": 112,
     "metadata": {},
     "output_type": "execute_result"
    }
   ],
   "source": [
    "%%time\n",
    "\n",
    "from sklearn.ensemble import RandomForestRegressor\n",
    "model = RandomForestRegressor(n_jobs=-1, random_state=42)\n",
    "\n",
    "#fit model with training set\n",
    "model.fit(xtrain, ytrain)"
   ]
  },
  {
   "cell_type": "markdown",
   "id": "72cd6b16",
   "metadata": {},
   "source": [
    "## Score the model"
   ]
  },
  {
   "cell_type": "markdown",
   "id": "72962d39",
   "metadata": {},
   "source": [
    "MAPE: A lower is better, less than .3 or 30% is required\n",
    "\n",
    "RMSLE: A lower number is better .25 is considered a good value\n",
    "\n",
    "R^2: A number close to 1 is best, greater than .8 or 80% is required"
   ]
  },
  {
   "cell_type": "code",
   "execution_count": 113,
   "id": "ef99c7da",
   "metadata": {},
   "outputs": [
    {
     "data": {
      "text/plain": [
       "{'Training MAPE': 0.058175654279890285,\n",
       " 'Validation MAPE': 0.14316369457924652,\n",
       " 'Training RMSLE': 0.09295920873609065,\n",
       " 'validation RMSLE': 0.20320343059541085,\n",
       " 'Training R^2': 0.9934654118514648,\n",
       " 'Validation R^2': 0.9837146330348617}"
      ]
     },
     "execution_count": 113,
     "metadata": {},
     "output_type": "execute_result"
    }
   ],
   "source": [
    "score_model(model)"
   ]
  },
  {
   "cell_type": "markdown",
   "id": "045d6743",
   "metadata": {},
   "source": [
    "## Improve the model"
   ]
  },
  {
   "cell_type": "markdown",
   "id": "f8ff73b9",
   "metadata": {},
   "source": [
    "Try to improve the model by finding the best hyperparameters for the model using RandomizedSearchCV"
   ]
  },
  {
   "cell_type": "code",
   "execution_count": 114,
   "id": "e6c5ea59",
   "metadata": {},
   "outputs": [
    {
     "name": "stdout",
     "output_type": "stream",
     "text": [
      "Fitting 5 folds for each of 10 candidates, totalling 50 fits\n",
      "Wall time: 6.65 s\n"
     ]
    },
    {
     "data": {
      "text/plain": [
       "RandomizedSearchCV(cv=5,\n",
       "                   estimator=RandomForestRegressor(n_jobs=-1, random_state=42),\n",
       "                   param_distributions={'max_depth': [None, 3, 5, 10],\n",
       "                                        'max_features': [0.5, 1, 'sqrt',\n",
       "                                                         'auto'],\n",
       "                                        'max_samples': [6080],\n",
       "                                        'min_samples_leaf': array([ 1,  3,  5,  7,  9, 11, 13, 15, 17, 19]),\n",
       "                                        'min_samples_split': array([ 2,  4,  6,  8, 10, 12, 14, 16, 18]),\n",
       "                                        'n_estimators': array([10, 20, 30, 40, 50, 60, 70, 80, 90])},\n",
       "                   verbose=True)"
      ]
     },
     "execution_count": 114,
     "metadata": {},
     "output_type": "execute_result"
    }
   ],
   "source": [
    "%%time\n",
    "# takes model and searches for the best hyperparameters\n",
    "\n",
    "from sklearn.model_selection import RandomizedSearchCV\n",
    "\n",
    "rf = {\"n_estimators\": np.arange(10, 100, 10),\n",
    "      \"max_depth\": [None, 3, 5, 10],\n",
    "      \"min_samples_split\": np.arange(2, 20, 2),\n",
    "      \"min_samples_leaf\": np.arange(1, 20, 2),\n",
    "      \"max_features\": [0.5, 1, \"sqrt\", \"auto\"],\n",
    "      \"max_samples\": [6080]}\n",
    "\n",
    "rsModel = RandomizedSearchCV(RandomForestRegressor(n_jobs=-1, random_state = 42), param_distributions=rf,\n",
    "                                                    n_iter=10, cv=5, verbose=True)\n",
    "    \n",
    "rsModel.fit(xtrain, ytrain)"
   ]
  },
  {
   "cell_type": "markdown",
   "id": "a4ddc6c2",
   "metadata": {},
   "source": [
    "### Fit model with better hyperparameters"
   ]
  },
  {
   "cell_type": "code",
   "execution_count": 115,
   "id": "c3e631b5",
   "metadata": {},
   "outputs": [
    {
     "data": {
      "text/plain": [
       "{'n_estimators': 20,\n",
       " 'min_samples_split': 14,\n",
       " 'min_samples_leaf': 3,\n",
       " 'max_samples': 6080,\n",
       " 'max_features': 'auto',\n",
       " 'max_depth': None}"
      ]
     },
     "execution_count": 115,
     "metadata": {},
     "output_type": "execute_result"
    }
   ],
   "source": [
    "# Find the optimal paramaters given by RandomizedSearchCV\n",
    "rsModel.best_params_"
   ]
  },
  {
   "cell_type": "code",
   "execution_count": 116,
   "id": "5172daa7",
   "metadata": {},
   "outputs": [
    {
     "data": {
      "text/plain": [
       "RandomForestRegressor(max_features=0.5, max_samples=6080, min_samples_split=4,\n",
       "                      n_estimators=40, random_state=42)"
      ]
     },
     "execution_count": 116,
     "metadata": {},
     "output_type": "execute_result"
    }
   ],
   "source": [
    "# after 100 iterations, we will try the parameters from RandomizedSearchCV\n",
    "\n",
    "updated_model = RandomForestRegressor(n_estimators=40, min_samples_split=4, min_samples_leaf=1,\n",
    "                                  max_samples=6080, max_features=0.5, max_depth=None, random_state=42)\n",
    "updated_model.fit(xtrain, ytrain)"
   ]
  },
  {
   "cell_type": "markdown",
   "id": "8c955ed1",
   "metadata": {},
   "source": [
    "As we can see below, the updated model scored a better R Squared value but was around the same or slightly worse in the other categories"
   ]
  },
  {
   "cell_type": "code",
   "execution_count": 117,
   "id": "3b6d202f",
   "metadata": {},
   "outputs": [
    {
     "data": {
      "text/plain": [
       "{'Training MAPE': 0.08698253825023874,\n",
       " 'Validation MAPE': 0.147640177341558,\n",
       " 'Training RMSLE': 0.1293267708742548,\n",
       " 'validation RMSLE': 0.2035642799861343,\n",
       " 'Training R^2': 0.990859322452464,\n",
       " 'Validation R^2': 0.985436911315261}"
      ]
     },
     "execution_count": 117,
     "metadata": {},
     "output_type": "execute_result"
    }
   ],
   "source": [
    "# Show the updated model's scores\n",
    "score_model(updated_model)"
   ]
  },
  {
   "cell_type": "markdown",
   "id": "99f29aba",
   "metadata": {},
   "source": [
    "## Format test set"
   ]
  },
  {
   "cell_type": "code",
   "execution_count": 119,
   "id": "f1b3ac3a",
   "metadata": {},
   "outputs": [
    {
     "name": "stdout",
     "output_type": "stream",
     "text": [
      "<class 'pandas.core.frame.DataFrame'>\n",
      "Int64Index: 227 entries, 7900 to 8126\n",
      "Data columns (total 22 columns):\n",
      " #   Column                Non-Null Count  Dtype  \n",
      "---  ------                --------------  -----  \n",
      " 0   name                  227 non-null    int16  \n",
      " 1   year                  227 non-null    int64  \n",
      " 2   mileage               227 non-null    int64  \n",
      " 3   fuel                  227 non-null    int8   \n",
      " 4   seller_type           227 non-null    int8   \n",
      " 5   transmission          227 non-null    int8   \n",
      " 6   owner                 227 non-null    int8   \n",
      " 7   kmpl                  227 non-null    int16  \n",
      " 8   engine                227 non-null    int8   \n",
      " 9   max_power             227 non-null    int16  \n",
      " 10  torque                227 non-null    int16  \n",
      " 11  seats                 227 non-null    float64\n",
      " 12  seats_missing         227 non-null    bool   \n",
      " 13  name_missing          227 non-null    bool   \n",
      " 14  fuel_missing          227 non-null    bool   \n",
      " 15  seller_type_missing   227 non-null    bool   \n",
      " 16  transmission_missing  227 non-null    bool   \n",
      " 17  owner_missing         227 non-null    bool   \n",
      " 18  kmpl_missing          227 non-null    bool   \n",
      " 19  engine_missing        227 non-null    bool   \n",
      " 20  max_power_missing     227 non-null    bool   \n",
      " 21  torque_missing        227 non-null    bool   \n",
      "dtypes: bool(10), float64(1), int16(4), int64(2), int8(5)\n",
      "memory usage: 12.2 KB\n"
     ]
    }
   ],
   "source": [
    "# copy the test set into a new dataframe and drop the price column\n",
    "\n",
    "pd.options.mode.chained_assignment = None  # default='warn' -- suppress warning for modifying a DF copy\n",
    "dftest1 = dftest.copy()\n",
    "dftest1.drop([\"price\"], axis=1, inplace=True)\n",
    "dftest1.info()"
   ]
  },
  {
   "cell_type": "markdown",
   "id": "7cf0684b",
   "metadata": {},
   "source": [
    "## Now we can make predictions on test data"
   ]
  },
  {
   "cell_type": "code",
   "execution_count": 172,
   "id": "3ae85c54",
   "metadata": {},
   "outputs": [],
   "source": [
    "# predict data from test set using the model\n",
    "test_pred = updated_model.predict(dftest1)\n",
    "\n",
    "# create a dataframe with the predicted prices and actual prices to graph the results\n",
    "resultdf = pd.DataFrame()\n",
    "resultdf[\"actualPrice\"] = dftest[\"price\"]\n",
    "resultdf[\"predictedPrice\"] = test_pred\n",
    "# resultdf"
   ]
  },
  {
   "cell_type": "markdown",
   "id": "8b15d102",
   "metadata": {},
   "source": [
    "### Display the results and compare the predictions with actual prices"
   ]
  },
  {
   "cell_type": "code",
   "execution_count": 173,
   "id": "3fe28829",
   "metadata": {
    "scrolled": false
   },
   "outputs": [
    {
     "data": {
      "image/png": "[encoded data removed]",
      "text/plain": [
       "<Figure size 2160x720 with 1 Axes>"
      ]
     },
     "metadata": {
      "needs_background": "light"
     },
     "output_type": "display_data"
    }
   ],
   "source": [
    "# Graph the actual and predicted prices to compare (x=index, y=price)\n",
    "from matplotlib.pyplot import figure\n",
    "\n",
    "plt.figure(figsize=(30,10))\n",
    "plt.plot(resultdf.index, resultdf[\"actualPrice\"], label=\"actual\") # blue\n",
    "plt.plot(resultdf.index, resultdf[\"predictedPrice\"], label=\"prediction\") # orange\n",
    "\n",
    "plt.legend()\n",
    "plt.legend(loc=2, prop={'size': 23})\n",
    "plt.xlabel(\"Vehicle index\")\n",
    "plt.ylabel(\"Price\")\n",
    "\n",
    "\n",
    "plt.rcParams.update({'font.size': 25})"
   ]
  },
  {
   "cell_type": "markdown",
   "id": "df730b8f",
   "metadata": {},
   "source": [
    "The graph above demonstrates the accuracy of the model for predicting prices\n",
    "\n",
    "The results below also demonstrate that the model has achieved the objective accuracy targets (greater than 80% R^2 and less than 30% MAPE)"
   ]
  },
  {
   "cell_type": "code",
   "execution_count": 174,
   "id": "f2c328e8",
   "metadata": {},
   "outputs": [
    {
     "name": "stdout",
     "output_type": "stream",
     "text": [
      "Test R^2 0.8726774462691838\n",
      "Test RMSLE 0.22186683026725443\n",
      "Test MAPE 0.1748499230862097\n"
     ]
    }
   ],
   "source": [
    "print(\"Test R^2\", r2_score(dftest[\"price\"], test_pred))\n",
    "print(\"Test RMSLE\", rmsle(dftest[\"price\"], test_pred))\n",
    "print(\"Test MAPE\", mean_absolute_percentage_error(dftest[\"price\"], test_pred))"
   ]
  }
 ],
 "metadata": {
  "kernelspec": {
   "display_name": "Python 3 (ipykernel)",
   "language": "python",
   "name": "python3"
  },
  "language_info": {
   "codemirror_mode": {
    "name": "ipython",
    "version": 3
   },
   "file_extension": ".py",
   "mimetype": "text/x-python",
   "name": "python",
   "nbconvert_exporter": "python",
   "pygments_lexer": "ipython3",
   "version": "3.9.7"
  }
 },
 "nbformat": 4,
 "nbformat_minor": 5
}
