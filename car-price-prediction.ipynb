{
 "cells": [
  {
   "cell_type": "markdown",
   "id": "83562b37",
   "metadata": {},
   "source": [
    "# Car sale price prediction using machine learning\n",
    "\n",
    "1. problem definition\n",
    "   How well can we predict the price of cars based on historical data on sale prices and features of the vehicle\n",
    "   \n",
    "2. data\n",
    "    data is downloaded from kaggle https://www.kaggle.com/ishaanthareja007/car-details\n",
    "    I split it into 3 sets: training.csv, validation.csv, and testing.csv sets\n",
    "    \n",
    "3. evaluation\n",
    "    we will use RMSLE (root mean squared log error) to determine the difference between actual and predicted prices\n",
    "\n",
    "4. features\n",
    "    data dictionary: https://www.kaggle.com/ishaanthareja007/car-details"
   ]
  },
  {
   "cell_type": "markdown",
   "id": "69dd54ef",
   "metadata": {},
   "source": [
    "# Import data"
   ]
  },
  {
   "cell_type": "code",
   "execution_count": 71,
   "id": "5465d712",
   "metadata": {},
   "outputs": [],
   "source": [
    "import numpy as np\n",
    "import pandas as pd\n",
    "import matplotlib.pyplot as plt\n",
    "import sklearn"
   ]
  },
  {
   "cell_type": "code",
   "execution_count": 72,
   "id": "ee9b698b",
   "metadata": {},
   "outputs": [],
   "source": [
    "# import training and validation data into a dataframe\n",
    "df = pd.read_csv(\"data/car-data.csv\")"
   ]
  },
  {
   "cell_type": "markdown",
   "id": "88ac4272",
   "metadata": {},
   "source": [
    "# Explore data"
   ]
  },
  {
   "cell_type": "code",
   "execution_count": 73,
   "id": "9128e7a3",
   "metadata": {},
   "outputs": [
    {
     "data": {
      "text/html": [
       "<div>\n",
       "<style scoped>\n",
       "    .dataframe tbody tr th:only-of-type {\n",
       "        vertical-align: middle;\n",
       "    }\n",
       "\n",
       "    .dataframe tbody tr th {\n",
       "        vertical-align: top;\n",
       "    }\n",
       "\n",
       "    .dataframe thead th {\n",
       "        text-align: right;\n",
       "    }\n",
       "</style>\n",
       "<table border=\"1\" class=\"dataframe\">\n",
       "  <thead>\n",
       "    <tr style=\"text-align: right;\">\n",
       "      <th></th>\n",
       "      <th>name</th>\n",
       "      <th>year</th>\n",
       "      <th>price</th>\n",
       "      <th>mileage</th>\n",
       "      <th>fuel</th>\n",
       "      <th>seller_type</th>\n",
       "      <th>transmission</th>\n",
       "      <th>owner</th>\n",
       "      <th>kmpl</th>\n",
       "      <th>engine</th>\n",
       "      <th>max_power</th>\n",
       "      <th>torque</th>\n",
       "      <th>seats</th>\n",
       "    </tr>\n",
       "  </thead>\n",
       "  <tbody>\n",
       "    <tr>\n",
       "      <th>0</th>\n",
       "      <td>Skoda Rapid 1.5 TDI Ambition</td>\n",
       "      <td>2014</td>\n",
       "      <td>370000</td>\n",
       "      <td>120000</td>\n",
       "      <td>Diesel</td>\n",
       "      <td>Individual</td>\n",
       "      <td>Manual</td>\n",
       "      <td>Second Owner</td>\n",
       "      <td>21.14 kmpl</td>\n",
       "      <td>1498 CC</td>\n",
       "      <td>103.52 bhp</td>\n",
       "      <td>250Nm@ 1500-2500rpm</td>\n",
       "      <td>5.0</td>\n",
       "    </tr>\n",
       "    <tr>\n",
       "      <th>1</th>\n",
       "      <td>Honda City 2017-2020 EXi</td>\n",
       "      <td>2006</td>\n",
       "      <td>158000</td>\n",
       "      <td>140000</td>\n",
       "      <td>Petrol</td>\n",
       "      <td>Individual</td>\n",
       "      <td>Manual</td>\n",
       "      <td>Third Owner</td>\n",
       "      <td>17.7 kmpl</td>\n",
       "      <td>1497 CC</td>\n",
       "      <td>78 bhp</td>\n",
       "      <td>12.7@ 2,700(kgm@ rpm)</td>\n",
       "      <td>5.0</td>\n",
       "    </tr>\n",
       "    <tr>\n",
       "      <th>2</th>\n",
       "      <td>Hyundai i20 Sportz Diesel</td>\n",
       "      <td>2010</td>\n",
       "      <td>225000</td>\n",
       "      <td>127000</td>\n",
       "      <td>Diesel</td>\n",
       "      <td>Individual</td>\n",
       "      <td>Manual</td>\n",
       "      <td>First Owner</td>\n",
       "      <td>23.0 kmpl</td>\n",
       "      <td>1396 CC</td>\n",
       "      <td>90 bhp</td>\n",
       "      <td>22.4 kgm at 1750-2750rpm</td>\n",
       "      <td>5.0</td>\n",
       "    </tr>\n",
       "    <tr>\n",
       "      <th>3</th>\n",
       "      <td>Maruti Swift VXI BSIII</td>\n",
       "      <td>2007</td>\n",
       "      <td>130000</td>\n",
       "      <td>120000</td>\n",
       "      <td>Petrol</td>\n",
       "      <td>Individual</td>\n",
       "      <td>Manual</td>\n",
       "      <td>First Owner</td>\n",
       "      <td>16.1 kmpl</td>\n",
       "      <td>1298 CC</td>\n",
       "      <td>88.2 bhp</td>\n",
       "      <td>11.5@ 4,500(kgm@ rpm)</td>\n",
       "      <td>5.0</td>\n",
       "    </tr>\n",
       "    <tr>\n",
       "      <th>4</th>\n",
       "      <td>Hyundai Xcent 1.2 VTVT E Plus</td>\n",
       "      <td>2017</td>\n",
       "      <td>440000</td>\n",
       "      <td>45000</td>\n",
       "      <td>Petrol</td>\n",
       "      <td>Individual</td>\n",
       "      <td>Manual</td>\n",
       "      <td>First Owner</td>\n",
       "      <td>20.14 kmpl</td>\n",
       "      <td>1197 CC</td>\n",
       "      <td>81.86 bhp</td>\n",
       "      <td>113.75nm@ 4000rpm</td>\n",
       "      <td>5.0</td>\n",
       "    </tr>\n",
       "  </tbody>\n",
       "</table>\n",
       "</div>"
      ],
      "text/plain": [
       "                            name  year   price  mileage    fuel seller_type  \\\n",
       "0   Skoda Rapid 1.5 TDI Ambition  2014  370000   120000  Diesel  Individual   \n",
       "1       Honda City 2017-2020 EXi  2006  158000   140000  Petrol  Individual   \n",
       "2      Hyundai i20 Sportz Diesel  2010  225000   127000  Diesel  Individual   \n",
       "3         Maruti Swift VXI BSIII  2007  130000   120000  Petrol  Individual   \n",
       "4  Hyundai Xcent 1.2 VTVT E Plus  2017  440000    45000  Petrol  Individual   \n",
       "\n",
       "  transmission         owner        kmpl   engine   max_power  \\\n",
       "0       Manual  Second Owner  21.14 kmpl  1498 CC  103.52 bhp   \n",
       "1       Manual   Third Owner   17.7 kmpl  1497 CC      78 bhp   \n",
       "2       Manual   First Owner   23.0 kmpl  1396 CC      90 bhp   \n",
       "3       Manual   First Owner   16.1 kmpl  1298 CC    88.2 bhp   \n",
       "4       Manual   First Owner  20.14 kmpl  1197 CC   81.86 bhp   \n",
       "\n",
       "                     torque  seats  \n",
       "0       250Nm@ 1500-2500rpm    5.0  \n",
       "1     12.7@ 2,700(kgm@ rpm)    5.0  \n",
       "2  22.4 kgm at 1750-2750rpm    5.0  \n",
       "3     11.5@ 4,500(kgm@ rpm)    5.0  \n",
       "4         113.75nm@ 4000rpm    5.0  "
      ]
     },
     "execution_count": 73,
     "metadata": {},
     "output_type": "execute_result"
    }
   ],
   "source": [
    "# Display the DataFrame\n",
    "df.head()"
   ]
  },
  {
   "cell_type": "code",
   "execution_count": 74,
   "id": "cd691637",
   "metadata": {},
   "outputs": [
    {
     "name": "stdout",
     "output_type": "stream",
     "text": [
      "<class 'pandas.core.frame.DataFrame'>\n",
      "RangeIndex: 8127 entries, 0 to 8126\n",
      "Data columns (total 13 columns):\n",
      " #   Column        Non-Null Count  Dtype  \n",
      "---  ------        --------------  -----  \n",
      " 0   name          8127 non-null   object \n",
      " 1   year          8127 non-null   int64  \n",
      " 2   price         8127 non-null   int64  \n",
      " 3   mileage       8127 non-null   int64  \n",
      " 4   fuel          8127 non-null   object \n",
      " 5   seller_type   8127 non-null   object \n",
      " 6   transmission  8127 non-null   object \n",
      " 7   owner         8127 non-null   object \n",
      " 8   kmpl          7906 non-null   object \n",
      " 9   engine        7906 non-null   object \n",
      " 10  max_power     7912 non-null   object \n",
      " 11  torque        7905 non-null   object \n",
      " 12  seats         7906 non-null   float64\n",
      "dtypes: float64(1), int64(3), object(9)\n",
      "memory usage: 825.5+ KB\n"
     ]
    }
   ],
   "source": [
    "# Show more info about the size of the dataframe and its content\n",
    "# Here we can see the column types and the missing values\n",
    "df.info()"
   ]
  },
  {
   "cell_type": "code",
   "execution_count": 75,
   "id": "d013c293",
   "metadata": {},
   "outputs": [
    {
     "data": {
      "text/plain": [
       "<matplotlib.collections.PathCollection at 0x25d2bdb8250>"
      ]
     },
     "execution_count": 75,
     "metadata": {},
     "output_type": "execute_result"
    },
    {
     "data": {
      "image/png": "[encoded data removed]",
      "text/plain": [
       "<Figure size 432x288 with 1 Axes>"
      ]
     },
     "metadata": {
      "needs_background": "light"
     },
     "output_type": "display_data"
    }
   ],
   "source": [
    "# Create a scatter plot comparing mileage and price.This shows strong correlation. \n",
    "# (higher mileage cars sell for lower prices)\n",
    "fig, ax = plt.subplots()\n",
    "ax.invert_xaxis()\n",
    "ax.scatter(df[\"mileage\"][:1000], df[\"price\"][:1000])"
   ]
  },
  {
   "cell_type": "code",
   "execution_count": 76,
   "id": "d669e22a",
   "metadata": {},
   "outputs": [
    {
     "data": {
      "text/plain": [
       "<BarContainer object of 1000 artists>"
      ]
     },
     "execution_count": 76,
     "metadata": {},
     "output_type": "execute_result"
    },
    {
     "data": {
      "image/png": "[encoded data removed]",
      "text/plain": [
       "<Figure size 432x288 with 1 Axes>"
      ]
     },
     "metadata": {
      "needs_background": "light"
     },
     "output_type": "display_data"
    }
   ],
   "source": [
    "# Create a plot showing year and price. This shows strong correlation. (newer models sell for higher prices)\n",
    "fig, ax = plt.subplots()\n",
    "ax.bar(df[\"year\"][:1000], df[\"price\"][:1000])"
   ]
  },
  {
   "cell_type": "markdown",
   "id": "8c3095ca",
   "metadata": {},
   "source": [
    "# Clean data and fill missing values"
   ]
  },
  {
   "cell_type": "markdown",
   "id": "3b88b2dd",
   "metadata": {},
   "source": [
    "### Create a data formatting function\n",
    "We need to convert any objects or strings to numeric types and fill null values for our machine learning algorithm to work"
   ]
  },
  {
   "cell_type": "code",
   "execution_count": 77,
   "id": "dc567b12",
   "metadata": {},
   "outputs": [],
   "source": [
    "def format_data(df):\n",
    "    # convert objects/strings to numeric data types for our ML algorithm\n",
    "    for label, content in df.items():\n",
    "        if pd.api.types.is_string_dtype(content):\n",
    "            df[label] = content.astype(\"category\").cat.as_ordered()\n",
    "\n",
    "    # Fill numeric columns with median\n",
    "    # Add additional column to indicate missing data was replaced\n",
    "    for label, content in df.items():\n",
    "        if pd.api.types.is_numeric_dtype(content):\n",
    "            if pd.isnull(content).sum():\n",
    "                # fill missing data and add a column to indicate data was missing\n",
    "                df[label + \"_missing\"] = pd.isnull(content)\n",
    "                df[label] = content.fillna(content.median())\n",
    "\n",
    "    # fill missing categorical values\n",
    "    for label, content in df.items():\n",
    "        if not pd.api.types.is_numeric_dtype(content):\n",
    "            df[label + \"_missing\"] = pd.isnull(content)\n",
    "            df[label] = pd.Categorical(content).codes + 1 # missing values are -1 so we add 1 to make them 0\n",
    "    return df"
   ]
  },
  {
   "cell_type": "code",
   "execution_count": 78,
   "id": "cbba3199",
   "metadata": {},
   "outputs": [
    {
     "name": "stdout",
     "output_type": "stream",
     "text": [
      "<class 'pandas.core.frame.DataFrame'>\n",
      "RangeIndex: 8127 entries, 0 to 8126\n",
      "Data columns (total 23 columns):\n",
      " #   Column                Non-Null Count  Dtype  \n",
      "---  ------                --------------  -----  \n",
      " 0   name                  8127 non-null   int16  \n",
      " 1   year                  8127 non-null   int64  \n",
      " 2   price                 8127 non-null   int64  \n",
      " 3   mileage               8127 non-null   int64  \n",
      " 4   fuel                  8127 non-null   int8   \n",
      " 5   seller_type           8127 non-null   int8   \n",
      " 6   transmission          8127 non-null   int8   \n",
      " 7   owner                 8127 non-null   int8   \n",
      " 8   kmpl                  8127 non-null   int16  \n",
      " 9   engine                8127 non-null   int8   \n",
      " 10  max_power             8127 non-null   int16  \n",
      " 11  torque                8127 non-null   int16  \n",
      " 12  seats                 8127 non-null   float64\n",
      " 13  seats_missing         8127 non-null   bool   \n",
      " 14  name_missing          8127 non-null   bool   \n",
      " 15  fuel_missing          8127 non-null   bool   \n",
      " 16  seller_type_missing   8127 non-null   bool   \n",
      " 17  transmission_missing  8127 non-null   bool   \n",
      " 18  owner_missing         8127 non-null   bool   \n",
      " 19  kmpl_missing          8127 non-null   bool   \n",
      " 20  engine_missing        8127 non-null   bool   \n",
      " 21  max_power_missing     8127 non-null   bool   \n",
      " 22  torque_missing        8127 non-null   bool   \n",
      "dtypes: bool(10), float64(1), int16(4), int64(3), int8(5)\n",
      "memory usage: 436.6 KB\n"
     ]
    }
   ],
   "source": [
    "# Format the DataFrame \n",
    "df = format_data(df)\n",
    "\n",
    "# View the new details of the dataframe and make sure the formatting was successful\n",
    "df.info()"
   ]
  },
  {
   "cell_type": "code",
   "execution_count": 79,
   "id": "28a82018",
   "metadata": {},
   "outputs": [
    {
     "data": {
      "text/plain": [
       "<matplotlib.collections.PathCollection at 0x25d2fc86670>"
      ]
     },
     "execution_count": 79,
     "metadata": {},
     "output_type": "execute_result"
    },
    {
     "data": {
      "image/png": "[encoded data removed]",
      "text/plain": [
       "<Figure size 432x288 with 1 Axes>"
      ]
     },
     "metadata": {
      "needs_background": "light"
     },
     "output_type": "display_data"
    }
   ],
   "source": [
    "# We can see below torque may have a weak correlation with price\n",
    "fig, ax = plt.subplots()\n",
    "ax.scatter(df[\"torque\"][:1000], df[\"price\"][:1000])"
   ]
  },
  {
   "cell_type": "markdown",
   "id": "3db9a6ad",
   "metadata": {},
   "source": [
    "## Split data into separate sets"
   ]
  },
  {
   "cell_type": "code",
   "execution_count": 80,
   "id": "fc921b54",
   "metadata": {},
   "outputs": [],
   "source": [
    "# split into training, test, and validation sets for the ML algorithm\n",
    "\n",
    "dftest = df[df.index >= 7900]\n",
    "dfval = df[np.logical_and(df.index >= 7600, df.index < 7900)]\n",
    "dftrain = df[df.index < 7600]"
   ]
  },
  {
   "cell_type": "markdown",
   "id": "b43bd88e",
   "metadata": {},
   "source": [
    "### Verify that the sets were split appropriately"
   ]
  },
  {
   "cell_type": "code",
   "execution_count": 81,
   "id": "b1bdbde5",
   "metadata": {},
   "outputs": [
    {
     "data": {
      "text/plain": [
       "(300, 7600, 227)"
      ]
     },
     "execution_count": 81,
     "metadata": {},
     "output_type": "execute_result"
    }
   ],
   "source": [
    "# As we can see, the sets were split from the original with 8127 entries to 3 separate sets\n",
    "len(dfval), len(dftrain), len(dftest)"
   ]
  },
  {
   "cell_type": "markdown",
   "id": "7aeadf1f",
   "metadata": {},
   "source": [
    "# Build the ML model"
   ]
  },
  {
   "cell_type": "markdown",
   "id": "70fdfb85",
   "metadata": {},
   "source": [
    "### Create training and validation sets"
   ]
  },
  {
   "cell_type": "code",
   "execution_count": 82,
   "id": "03da0aee",
   "metadata": {},
   "outputs": [
    {
     "data": {
      "text/plain": [
       "((7600, 22), (7600,), (300, 22), (300,))"
      ]
     },
     "execution_count": 82,
     "metadata": {},
     "output_type": "execute_result"
    }
   ],
   "source": [
    "# xtrain is the training data without the price column and ytrain is the associated price column (similar for xvalid/yvalid)\n",
    "xtrain, ytrain = dftrain.drop(\"price\", axis=1), dftrain.price\n",
    "xvalid, yvalid = dfval.drop(\"price\", axis=1), dfval.price\n",
    "\n",
    "# Now we will verify the data - .shape prints the # of rows and columns\n",
    "xtrain.shape, ytrain.shape, xvalid.shape, yvalid.shape"
   ]
  },
  {
   "cell_type": "markdown",
   "id": "d8137862",
   "metadata": {},
   "source": [
    "### Create a function to evaluate the model and display results"
   ]
  },
  {
   "cell_type": "code",
   "execution_count": 83,
   "id": "066b9315",
   "metadata": {},
   "outputs": [],
   "source": [
    "# We will use the MSLE, MAPE, and R^2 score for evaluation metrics\n",
    "from sklearn.metrics import mean_squared_log_error, mean_absolute_percentage_error, r2_score\n",
    "\n",
    "# function to find RMSLE since it is not available in sklearn\n",
    "def rmsle(y_actual, y_pred):\n",
    "    return np.sqrt(mean_squared_log_error(y_actual, y_pred))\n",
    "\n",
    "# make a function that evaluates the model with different criteria\n",
    "def score_model(model):\n",
    "    train_pred = model.predict(xtrain) # see how model performs on training set\n",
    "    val_pred = model.predict(xvalid) # see how model performs on validation set\n",
    "    \n",
    "    # scores will return a dictionary with the results\n",
    "    scores = {\"Training MAPE\": mean_absolute_percentage_error(ytrain, train_pred),\n",
    "              \"Validation MAPE\": mean_absolute_percentage_error(yvalid, val_pred),\n",
    "              \"Training RMSLE\": rmsle(ytrain, train_pred),\n",
    "              \"validation RMSLE\": rmsle(yvalid, val_pred),\n",
    "              \"Training R^2\": r2_score(ytrain, train_pred),\n",
    "              \"Validation R^2\": r2_score(yvalid, val_pred)}\n",
    "    return scores"
   ]
  },
  {
   "cell_type": "markdown",
   "id": "4b95d142",
   "metadata": {},
   "source": [
    "### Instantiate and fit model"
   ]
  },
  {
   "cell_type": "code",
   "execution_count": 84,
   "id": "8915043e",
   "metadata": {},
   "outputs": [
    {
     "name": "stdout",
     "output_type": "stream",
     "text": [
      "Wall time: 947 ms\n"
     ]
    },
    {
     "data": {
      "text/plain": [
       "RandomForestRegressor(n_jobs=-1, random_state=42)"
      ]
     },
     "execution_count": 84,
     "metadata": {},
     "output_type": "execute_result"
    }
   ],
   "source": [
    "%%time\n",
    "\n",
    "from sklearn.ensemble import RandomForestRegressor\n",
    "model = RandomForestRegressor(n_jobs=-1, random_state=42)\n",
    "\n",
    "#fit model with training set\n",
    "model.fit(xtrain, ytrain)"
   ]
  },
  {
   "cell_type": "markdown",
   "id": "72cd6b16",
   "metadata": {},
   "source": [
    "### Score the model"
   ]
  },
  {
   "cell_type": "code",
   "execution_count": 85,
   "id": "ef99c7da",
   "metadata": {},
   "outputs": [
    {
     "data": {
      "text/plain": [
       "{'Training MAPE': 0.058175654279890285,\n",
       " 'Validation MAPE': 0.14316369457924652,\n",
       " 'Training RMSLE': 0.09295920873609065,\n",
       " 'validation RMSLE': 0.20320343059541085,\n",
       " 'Training R^2': 0.9934654118514648,\n",
       " 'Validation R^2': 0.9837146330348617}"
      ]
     },
     "execution_count": 85,
     "metadata": {},
     "output_type": "execute_result"
    }
   ],
   "source": [
    "# RMSLE: lower number is better .25 is considered a good value\n",
    "# R^2: closer to 1 is better\n",
    "# MAPE: lower is better, less than .2 or 20% is considered good\n",
    "score_model(model)"
   ]
  },
  {
   "cell_type": "markdown",
   "id": "045d6743",
   "metadata": {},
   "source": [
    "### Find the best hyperparameters for the model using RandomizedSearchCV"
   ]
  },
  {
   "cell_type": "code",
   "execution_count": 86,
   "id": "e6c5ea59",
   "metadata": {},
   "outputs": [
    {
     "name": "stdout",
     "output_type": "stream",
     "text": [
      "Fitting 5 folds for each of 1000 candidates, totalling 5000 fits\n",
      "Wall time: 13min 14s\n"
     ]
    },
    {
     "data": {
      "text/plain": [
       "RandomizedSearchCV(cv=5,\n",
       "                   estimator=RandomForestRegressor(n_jobs=-1, random_state=42),\n",
       "                   n_iter=1000,\n",
       "                   param_distributions={'max_depth': [None, 3, 5, 10],\n",
       "                                        'max_features': [0.5, 1, 'sqrt',\n",
       "                                                         'auto'],\n",
       "                                        'max_samples': [6080],\n",
       "                                        'min_samples_leaf': array([ 1,  3,  5,  7,  9, 11, 13, 15, 17, 19]),\n",
       "                                        'min_samples_split': array([ 2,  4,  6,  8, 10, 12, 14, 16, 18]),\n",
       "                                        'n_estimators': array([10, 20, 30, 40, 50, 60, 70, 80, 90])},\n",
       "                   verbose=True)"
      ]
     },
     "execution_count": 86,
     "metadata": {},
     "output_type": "execute_result"
    }
   ],
   "source": [
    "%%time\n",
    "# takes model and searches for the best hyperparameters\n",
    "\n",
    "from sklearn.model_selection import RandomizedSearchCV\n",
    "\n",
    "rf = {\"n_estimators\": np.arange(10, 100, 10),\n",
    "      \"max_depth\": [None, 3, 5, 10],\n",
    "      \"min_samples_split\": np.arange(2, 20, 2),\n",
    "      \"min_samples_leaf\": np.arange(1, 20, 2),\n",
    "      \"max_features\": [0.5, 1, \"sqrt\", \"auto\"],\n",
    "      \"max_samples\": [6080]}\n",
    "\n",
    "rsModel = RandomizedSearchCV(RandomForestRegressor(n_jobs=-1, random_state = 42), param_distributions=rf,\n",
    "                                                    n_iter=1000, cv=5, verbose=True)\n",
    "    \n",
    "rsModel.fit(xtrain, ytrain)"
   ]
  },
  {
   "cell_type": "markdown",
   "id": "a4ddc6c2",
   "metadata": {},
   "source": [
    "### Fit model with better hyperparameters"
   ]
  },
  {
   "cell_type": "code",
   "execution_count": 87,
   "id": "c3e631b5",
   "metadata": {},
   "outputs": [
    {
     "data": {
      "text/plain": [
       "{'n_estimators': 40,\n",
       " 'min_samples_split': 4,\n",
       " 'min_samples_leaf': 1,\n",
       " 'max_samples': 6080,\n",
       " 'max_features': 0.5,\n",
       " 'max_depth': None}"
      ]
     },
     "execution_count": 87,
     "metadata": {},
     "output_type": "execute_result"
    }
   ],
   "source": [
    "# Find the optimal paramaters given by RandomizedSearchCV\n",
    "rsModel.best_params_"
   ]
  },
  {
   "cell_type": "code",
   "execution_count": 88,
   "id": "5172daa7",
   "metadata": {},
   "outputs": [
    {
     "data": {
      "text/plain": [
       "RandomForestRegressor(max_features=0.5, max_samples=6080, min_samples_split=4,\n",
       "                      n_estimators=40, random_state=42)"
      ]
     },
     "execution_count": 88,
     "metadata": {},
     "output_type": "execute_result"
    }
   ],
   "source": [
    "# after 100 iterations, we will try the parameters from RandomizedSearchCV\n",
    "\n",
    "improved_model = RandomForestRegressor(n_estimators=40, min_samples_split=4, min_samples_leaf=1,\n",
    "                                  max_samples=6080, max_features=0.5, max_depth=None, random_state=42)\n",
    "improved_model.fit(xtrain, ytrain)"
   ]
  },
  {
   "cell_type": "code",
   "execution_count": 89,
   "id": "3b6d202f",
   "metadata": {},
   "outputs": [
    {
     "data": {
      "text/plain": [
       "{'Training MAPE': 0.08698253825023874,\n",
       " 'Validation MAPE': 0.147640177341558,\n",
       " 'Training RMSLE': 0.1293267708742548,\n",
       " 'validation RMSLE': 0.2035642799861343,\n",
       " 'Training R^2': 0.990859322452464,\n",
       " 'Validation R^2': 0.985436911315261}"
      ]
     },
     "execution_count": 89,
     "metadata": {},
     "output_type": "execute_result"
    }
   ],
   "source": [
    "# Show the improved model's scores\n",
    "score_model(improved_model)"
   ]
  },
  {
   "cell_type": "code",
   "execution_count": 90,
   "id": "0fc10806",
   "metadata": {},
   "outputs": [
    {
     "data": {
      "text/plain": [
       "{'Training MAPE': 0.058175654279890285,\n",
       " 'Validation MAPE': 0.14316369457924652,\n",
       " 'Training RMSLE': 0.09295920873609065,\n",
       " 'validation RMSLE': 0.20320343059541085,\n",
       " 'Training R^2': 0.9934654118514648,\n",
       " 'Validation R^2': 0.9837146330348617}"
      ]
     },
     "execution_count": 90,
     "metadata": {},
     "output_type": "execute_result"
    }
   ],
   "source": [
    "# Show the old models scores for comparison\n",
    "score_model(model)"
   ]
  },
  {
   "cell_type": "markdown",
   "id": "99f29aba",
   "metadata": {},
   "source": [
    "## Format test set"
   ]
  },
  {
   "cell_type": "code",
   "execution_count": 30,
   "id": "f1b3ac3a",
   "metadata": {},
   "outputs": [
    {
     "name": "stdout",
     "output_type": "stream",
     "text": [
      "<class 'pandas.core.frame.DataFrame'>\n",
      "Int64Index: 227 entries, 7900 to 8126\n",
      "Data columns (total 22 columns):\n",
      " #   Column                Non-Null Count  Dtype  \n",
      "---  ------                --------------  -----  \n",
      " 0   name                  227 non-null    int16  \n",
      " 1   year                  227 non-null    int64  \n",
      " 2   mileage               227 non-null    int64  \n",
      " 3   fuel                  227 non-null    int8   \n",
      " 4   seller_type           227 non-null    int8   \n",
      " 5   transmission          227 non-null    int8   \n",
      " 6   owner                 227 non-null    int8   \n",
      " 7   kmpl                  227 non-null    int16  \n",
      " 8   engine                227 non-null    int8   \n",
      " 9   max_power             227 non-null    int16  \n",
      " 10  torque                227 non-null    int16  \n",
      " 11  seats                 227 non-null    float64\n",
      " 12  seats_missing         227 non-null    bool   \n",
      " 13  name_missing          227 non-null    bool   \n",
      " 14  fuel_missing          227 non-null    bool   \n",
      " 15  seller_type_missing   227 non-null    bool   \n",
      " 16  transmission_missing  227 non-null    bool   \n",
      " 17  owner_missing         227 non-null    bool   \n",
      " 18  kmpl_missing          227 non-null    bool   \n",
      " 19  engine_missing        227 non-null    bool   \n",
      " 20  max_power_missing     227 non-null    bool   \n",
      " 21  torque_missing        227 non-null    bool   \n",
      "dtypes: bool(10), float64(1), int16(4), int64(2), int8(5)\n",
      "memory usage: 12.2 KB\n"
     ]
    }
   ],
   "source": [
    "# copy the test set into a new dataframe and drop the price column\n",
    "\n",
    "pd.options.mode.chained_assignment = None  # default='warn' -- suppress warning for modifying a DF copy\n",
    "dftest1 = dftest.copy()\n",
    "dftest1.drop([\"price\"], axis=1, inplace=True)\n",
    "dftest1.info()"
   ]
  },
  {
   "cell_type": "markdown",
   "id": "7cf0684b",
   "metadata": {},
   "source": [
    "## Now we can make predictions on test data"
   ]
  },
  {
   "cell_type": "code",
   "execution_count": 34,
   "id": "3ae85c54",
   "metadata": {},
   "outputs": [],
   "source": [
    "# predict data from test set using the model\n",
    "test_pred = improved_model.predict(dftest1)\n",
    "\n",
    "# create a dataframe with the predicted prices and actual prices to graph the results\n",
    "resultdf = pd.DataFrame()\n",
    "resultdf[\"actualPrice\"] = dftest[\"price\"]\n",
    "resultdf[\"predictedPrice\"] = test_pred\n",
    "# resultdf"
   ]
  },
  {
   "cell_type": "markdown",
   "id": "8b15d102",
   "metadata": {},
   "source": [
    "### Display the results and compare the predictions with actual prices"
   ]
  },
  {
   "cell_type": "code",
   "execution_count": 93,
   "id": "3fe28829",
   "metadata": {
    "scrolled": false
   },
   "outputs": [
    {
     "data": {
      "text/plain": [
       "[<matplotlib.lines.Line2D at 0x25d37958c40>]"
      ]
     },
     "execution_count": 93,
     "metadata": {},
     "output_type": "execute_result"
    },
    {
     "data": {
      "image/png": "[encoded data removed]",
      "text/plain": [
       "<Figure size 2160x720 with 1 Axes>"
      ]
     },
     "metadata": {
      "needs_background": "light"
     },
     "output_type": "display_data"
    }
   ],
   "source": [
    "# Graph the actual and predicted prices to compare (x=index, y=price)\n",
    "from matplotlib.pyplot import figure\n",
    "\n",
    "# figure, ax = plt.subplots()\n",
    "plt.figure(figsize=(30,10))\n",
    "plt.plot(resultdf.index, resultdf[\"actualPrice\"], label=\"actual\") # blue\n",
    "plt.plot(resultdf.index, resultdf[\"predictedPrice\"], label=\"prediction\") # orange\n",
    "\n",
    "# Actual price = blue line\n",
    "# Predicted price = orange line"
   ]
  },
  {
   "cell_type": "markdown",
   "id": "df730b8f",
   "metadata": {},
   "source": [
    "The graph above demonstrates the accuracy of the model for predicting prices"
   ]
  },
  {
   "cell_type": "code",
   "execution_count": null,
   "id": "f2c328e8",
   "metadata": {},
   "outputs": [],
   "source": []
  }
 ],
 "metadata": {
  "kernelspec": {
   "display_name": "Python 3 (ipykernel)",
   "language": "python",
   "name": "python3"
  },
  "language_info": {
   "codemirror_mode": {
    "name": "ipython",
    "version": 3
   },
   "file_extension": ".py",
   "mimetype": "text/x-python",
   "name": "python",
   "nbconvert_exporter": "python",
   "pygments_lexer": "ipython3",
   "version": "3.9.7"
  }
 },
 "nbformat": 4,
 "nbformat_minor": 5
}
